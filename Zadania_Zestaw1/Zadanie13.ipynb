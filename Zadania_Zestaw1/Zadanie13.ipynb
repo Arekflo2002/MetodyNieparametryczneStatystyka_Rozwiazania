{
 "cells": [
  {
   "attachments": {},
   "cell_type": "markdown",
   "metadata": {},
   "source": [
    "# Zadanie 13\n"
   ]
  },
  {
   "attachments": {},
   "cell_type": "markdown",
   "metadata": {},
   "source": [
    "## Przygotowywania do zadania "
   ]
  },
  {
   "attachments": {},
   "cell_type": "markdown",
   "metadata": {},
   "source": [
    "### Wczytywanie potrzebnych bibliotek"
   ]
  },
  {
   "cell_type": "code",
   "execution_count": 1,
   "metadata": {},
   "outputs": [],
   "source": [
    "import scipy.stats as stats\n",
    "import matplotlib.pyplot as plt\n",
    "import numpy as np\n"
   ]
  },
  {
   "attachments": {},
   "cell_type": "markdown",
   "metadata": {},
   "source": [
    "### Ustawianie globalnych danych\n",
    "\n",
    "Ustawiam tutaj, dane które są uniwersalne dla każdego testu, to znaczy:\n",
    "\n",
    "1. Liczba stopni swobody\n",
    "2. Liczba danych\n",
    "3. Liczba symulacji, które wykonam\n",
    "4. Poziom istnotności\n"
   ]
  },
  {
   "cell_type": "code",
   "execution_count": 2,
   "metadata": {},
   "outputs": [],
   "source": [
    "np.random.seed(123)\n",
    "\n",
    "# Zakres stopni swobody, jakie zaprezentuję na wykresie\n",
    "parametry = range(1, 50, 1)  # Zakres od 1-50 co 1\n",
    "# Ustalam poziom istotności\n",
    "poziom_istotnosci = 0.05\n",
    "# Liczba danych dla jakich wykonam symulacje\n",
    "liczby_danych = [10, 20, 50, 100, 200]\n",
    "# Liczba symulacji na jakich będę bazować\n",
    "liczba_symulacji = 3000\n",
    "# Czcionka dla tytulu\n",
    "font_title = {'family' :'serif','size':17}"
   ]
  },
  {
   "attachments": {},
   "cell_type": "markdown",
   "metadata": {},
   "source": [
    "## Badanie "
   ]
  },
  {
   "attachments": {},
   "cell_type": "markdown",
   "metadata": {},
   "source": [
    "### Potrzebne funkcje \n",
    "\n",
    "Tutaj stworzę wszystkie funkcje, które wykorzystam do badania, przy okazji opisując od razu ich działanie. Następnie przy symulacji badania, będą one tylko wywoływane. Funkcje zaczynają się od najbardziej ogólnej i idą w dół razem z programem(idziemy po kolei tak samo jak program)."
   ]
  },
  {
   "attachments": {},
   "cell_type": "markdown",
   "metadata": {},
   "source": [
    "#### Funkcja obliczania mocy testu \n",
    "\n",
    "Najogólniejsza funkcja, która przygotuje dane, które wykorzystam, aby zrobić symulacje w funkcji symulacja. Więc ustalamy liczbę danych oraz stopień swobody i idziemy dalej przekazując parametry dalej do funkcji. Po symulacji dodajemy wynik do tablicy i idziemy dalej. Od razu wybieram czy to będzie klasyczny sposób testowania czy z wykorzystaniem PIT. \n",
    "\n",
    "Argumenty: \n",
    "- test - Mówi który rozkład jest teraz symulowany\n",
    "\n",
    "Funkcja będzie zwracać tablice 2D(i,j), która zbierała dane dla i-tej liczbie danych oraz j-tych stopni swobody.\n",
    "\n"
   ]
  },
  {
   "cell_type": "code",
   "execution_count": 3,
   "metadata": {},
   "outputs": [],
   "source": [
    "def obliczanie_mocy_testu(test):\n",
    "    # Tablica, która zbierze mi moce testów, które zwróci\n",
    "    moce_testow = []\n",
    "\n",
    "    # Dla każdej liczby z liczby_danych\n",
    "    for l_danych in liczby_danych:\n",
    "        \"\"\"\n",
    "        Tworzę nową tablicę która przechowuję wyniki mocu testu dla i-tej liczby danych. Lista przechowuje wyniki dla każdego j-stopnia\n",
    "        swoobody w stopnie_swobody. Wykorzystuje List Comprahension, żeby umilic kod\n",
    "        \"\"\"\n",
    "        moce_testow.append([symulacja(l_danych,p,test) for p in parametry])\n",
    "\n",
    "\n",
    "\n",
    "    # Zwracam w.w tablice\n",
    "    return moce_testow"
   ]
  },
  {
   "attachments": {},
   "cell_type": "markdown",
   "metadata": {},
   "source": [
    "#### Funkcja symulacji \n",
    "\n",
    "Ustaliliśmy już liczbę danych oraz liczbe stopni swobody dla naszych danych. \n",
    "W tej funkcji będziemy generować dane z rozkładu t-studenta dokładnie z tymi parametrami, przekazanymi jako argumenty. \n",
    "Następnie prześlemy je do funkcji, która wybierze, który test jest obecnie symulowany i wynik tej funkcji będziemy sumować w zmiennej \n",
    "suma_odrzucen_H0.\n",
    "\n",
    "Argumenty:\n",
    "- l_danych - Ile danych będziemy losować z rozkładu \n",
    "- par - parametetr danego rozkladu\n",
    "- test - Jaki rozklad jest teraz symulowany\n",
    "\n",
    "\n",
    "Funkcja będzie zwracać odsetek w jakim odrzuciłem hipotezę zerową dla podanych parametrów"
   ]
  },
  {
   "cell_type": "code",
   "execution_count": 4,
   "metadata": {},
   "outputs": [],
   "source": [
    "def rozklad(test,par,l_danych):\n",
    "    if test == 'lap':\n",
    "        return stats.laplace_asymmetric.rvs(par,size=l_danych)\n",
    "    \n",
    "    return stats.rayleigh.rvs(par,size=l_danych)\n",
    "\n",
    "def symulacja(l_danych,par,test):\n",
    "    # W tej zmiennej będę sumował ile razy odrzuciłem hipotezę zerową dla danego zestawu \n",
    "    suma_odrzucenia_H0 = 0\n",
    "\n",
    "    # Tutaj będzie symulacja\n",
    "    for k in range(liczba_symulacji):\n",
    "        # Tworzę próbkę danych z podanego rozkladu\n",
    "        probka = rozklad(test,par,l_danych)\n",
    "\n",
    "        # Następnie przekazuje wszystkie dane, aby wybrac który test jest symulowany i dowiedzieć się jaki jest wynik testu\n",
    "        suma_odrzucenia_H0 += wybor_testu(probka,test,par)\n",
    "\n",
    "    # Zwracam odsetek odrzucenia hipotezy zerowej\n",
    "    return suma_odrzucenia_H0/liczba_symulacji"
   ]
  },
  {
   "attachments": {},
   "cell_type": "markdown",
   "metadata": {},
   "source": [
    "#### Funkcja wyboru testu \n",
    "\n",
    "Funkcja za argumenty przyjmuje wszystkie dane, które są jej potrzebne do wybrania oraz przeprowadzenia danego testu. \n",
    "\n",
    "\n",
    "Funkcja będzie zwracać 1 lub 0 w zależności od wyniku testu(1-odrzucamy test, 0-nie ma podstaw)"
   ]
  },
  {
   "cell_type": "code",
   "execution_count": 5,
   "metadata": {},
   "outputs": [],
   "source": [
    "\n",
    "def wybor_testu(probka,test,par):\n",
    "    \"\"\"\n",
    "    Ogólna zasada działania testów:\n",
    "    \n",
    "    Jeżeli pvalue z danego testu jest mniejsze niż wczesniej ustalony poziom istotnotnosci to odrucamy \n",
    "    Hipoteze zerowa co znaczy ze zwracamy wartość 1. W przeciwnym wypadku zwracamy 0\n",
    "    \n",
    "    \"\"\"\n",
    "\n",
    "    pval = None\n",
    "    if test == 'lap':\n",
    "        pval = stats.kstest(probka,'laplace_asymmetric',args=(par,)).pvalue\n",
    "    \n",
    "    else:\n",
    "        pval = stats.kstest(probka,'rayleigh',args=(par,)).pvalue\n",
    "    \n",
    "    if pval < poziom_istotnosci: return 1\n",
    "    \n",
    "    # Jeżeli do tej pory nie zwrócono 1 to znaczy, że żaden z testów nie odrzucił H0 więc możemy zwrócic 0\n",
    "    return 0\n",
    "            \n"
   ]
  },
  {
   "attachments": {},
   "cell_type": "markdown",
   "metadata": {},
   "source": [
    "## Symulacje "
   ]
  },
  {
   "attachments": {},
   "cell_type": "markdown",
   "metadata": {},
   "source": [
    "### Klasyczny sposób testowanaia"
   ]
  },
  {
   "cell_type": "code",
   "execution_count": 6,
   "metadata": {},
   "outputs": [
    {
     "name": "stderr",
     "output_type": "stream",
     "text": [
      "C:\\Users\\Arkadiusz Studia\\AppData\\Local\\Packages\\PythonSoftwareFoundation.Python.3.11_qbz5n2kfra8p0\\LocalCache\\local-packages\\Python311\\site-packages\\scipy\\stats\\_continuous_distns.py:5048: RuntimeWarning: overflow encountered in exp\n",
      "  1 - np.exp(-x*kappa)*(kapinv/kappkapinv),\n"
     ]
    }
   ],
   "source": [
    "moc_kol_lap = obliczanie_mocy_testu('lap')\n",
    "moc_kol_reh = obliczanie_mocy_testu('reh')\n"
   ]
  },
  {
   "attachments": {},
   "cell_type": "markdown",
   "metadata": {},
   "source": [
    "## Wnioski "
   ]
  },
  {
   "attachments": {},
   "cell_type": "markdown",
   "metadata": {},
   "source": [
    "### Test Kołgomorowa"
   ]
  },
  {
   "cell_type": "code",
   "execution_count": 9,
   "metadata": {},
   "outputs": [],
   "source": [
    "fig, (kol,kol_pit) = plt.subplots(1,2, figsize=(15,6))  # 1 row, 2 columns\n",
    "\n",
    "# Dodaje dane do wykres\n",
    "for i,moc in enumerate(moc_kol_lap):\n",
    "    kol.plot(parametry,moc,label= str(liczby_danych[i]))\n",
    "    kol.scatter(parametry[0], moc[0], s=50, marker='.') \n",
    "\n",
    "for i,moc in enumerate(moc_kol_reh):\n",
    "    kol_pit.plot(parametry,moc,label= str(liczby_danych[i]))\n",
    "    kol_pit.scatter(parametry[0], moc[0], s=50, marker='.') \n",
    "\n",
    "fig.suptitle(\"Test Kołmogorowa\")\n",
    "# Dodaje opisy do wykresu test kolgomorowa\n",
    "kol.set_xlabel(\"Wartosc Parametru\")\n",
    "kol.set_ylabel(\"Moc Testu\")\n",
    "kol.set_title(\"Rozklad Laplace\",fontdict=font_title)\n",
    "kol.legend(title=\"Liczba danych\",loc=\"lower right\")\n",
    "kol.set_ylim(-0.01)\n",
    "\n",
    "# Dodaje opisy do wykresu \n",
    "kol_pit.set_xlabel(\"Wartosc Parametru\")\n",
    "kol_pit.set_ylabel(\"Moc Testu\")\n",
    "kol_pit.set_title(\"Rozklad Rayleigh\",fontdict=font_title)\n",
    "kol_pit.legend(title=\"Liczba danych\",loc=\"lower right\")\n",
    "kol_pit.set_ylim(-0.01)\n",
    "\n",
    "\n",
    "# plt.tight_layout()\n",
    "plt.show()\n"
   ]
  },
  {
   "attachments": {},
   "cell_type": "markdown",
   "metadata": {},
   "source": [
    "### Wnioski\n",
    "\n",
    "Jak możemy zauważyć na wykresie test kołgomorowa jest bardzo dokładny. Rozkłady są asymetryczne, test Kołmogorowa krazy wokol poziomu istotnosci, co jest pozadana czynnoscia! Parametry rozkladow nie mialy znaczenia"
   ]
  }
 ],
 "metadata": {
  "kernelspec": {
   "display_name": "Python 3",
   "language": "python",
   "name": "python3"
  },
  "language_info": {
   "codemirror_mode": {
    "name": "ipython",
    "version": 3
   },
   "file_extension": ".py",
   "mimetype": "text/x-python",
   "name": "python",
   "nbconvert_exporter": "python",
   "pygments_lexer": "ipython3",
   "version": "3.11.3"
  },
  "orig_nbformat": 4
 },
 "nbformat": 4,
 "nbformat_minor": 2
}
