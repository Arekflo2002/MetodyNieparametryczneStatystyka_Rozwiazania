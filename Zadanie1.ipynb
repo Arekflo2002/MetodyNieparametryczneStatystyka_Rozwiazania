{
 "cells": [
  {
   "attachments": {},
   "cell_type": "markdown",
   "metadata": {},
   "source": [
    "# Zadanie 1\n",
    "\n",
    "## Wczytywanie potrzebnych bibliotek  "
   ]
  },
  {
   "cell_type": "code",
   "execution_count": 3,
   "metadata": {},
   "outputs": [],
   "source": [
    "import scipy.stats as stats\n",
    "import matplotlib.pyplot as plt\n",
    "import numpy as np"
   ]
  },
  {
   "cell_type": "markdown",
   "metadata": {},
   "source": []
  },
  {
   "cell_type": "code",
   "execution_count": 4,
   "metadata": {},
   "outputs": [
    {
     "name": "stdout",
     "output_type": "stream",
     "text": [
      "[0.997, 0.076, 0.046, 0.046, 0.047]\n"
     ]
    },
    {
     "data": {
      "text/plain": [
       "[<matplotlib.lines.Line2D at 0x1e37f9aa690>]"
      ]
     },
     "execution_count": 4,
     "metadata": {},
     "output_type": "execute_result"
    },
    {
     "data": {
      "image/png": "[encoded data removed]",
      "text/plain": [
       "<Figure size 640x480 with 1 Axes>"
      ]
     },
     "metadata": {},
     "output_type": "display_data"
    }
   ],
   "source": [
    "\n",
    "liczba_stopni = [1,20,100,1000,100000]\n",
    "alfa = 0.05\n",
    "n = 50\n",
    "liczba_symulacji = 1000\n",
    "moce_testow = []\n",
    "\n",
    "# Zebranie danych z rozkladu t - studenta\n",
    "\n",
    "for stopien in liczba_stopni:\n",
    "    odrzucenie_H0 = 0\n",
    "    for K in range(liczba_symulacji):\n",
    "        probka = stats.t.rvs(stopien,size=n)\n",
    "        # Standaryzacja danych i guess\n",
    "        stand_probka = (probka - np.mean(probka))/np.std(probka)\n",
    "        # Bede badal odsetek odrzucenia H0 przy 1000 symulacji \n",
    "        # Jezeli pvalue jest < 0.05 to sa podstawy do orzucenia H0 wiec =+ zmienna \n",
    "        if stats.shapiro(stand_probka).pvalue < alfa : \n",
    "            odrzucenie_H0 += 1\n",
    "    \n",
    "    # Obliczamy ostateczny odsetek odrzucenia H0\n",
    "    moce_testow.append(odrzucenie_H0/liczba_symulacji)\n",
    "\n",
    "\n",
    "print(moce_testow)\n",
    "plt.plot(liczba_stopni,moce_testow)\n",
    "\n"
   ]
  },
  {
   "cell_type": "code",
   "execution_count": null,
   "metadata": {},
   "outputs": [],
   "source": []
  }
 ],
 "metadata": {
  "kernelspec": {
   "display_name": "Python 3",
   "language": "python",
   "name": "python3"
  },
  "language_info": {
   "codemirror_mode": {
    "name": "ipython",
    "version": 3
   },
   "file_extension": ".py",
   "mimetype": "text/x-python",
   "name": "python",
   "nbconvert_exporter": "python",
   "pygments_lexer": "ipython3",
   "version": "3.11.2"
  },
  "orig_nbformat": 4
 },
 "nbformat": 4,
 "nbformat_minor": 2
}
