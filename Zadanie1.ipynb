{
 "cells": [
  {
   "attachments": {},
   "cell_type": "markdown",
   "metadata": {},
   "source": [
    "# Zadanie 1\n",
    "\n",
    "## Wczytywanie potrzebnych bibliotek  "
   ]
  },
  {
   "cell_type": "code",
   "execution_count": 51,
   "metadata": {},
   "outputs": [],
   "source": [
    "import scipy.stats as stats\n",
    "import matplotlib.pyplot as plt\n",
    "import numpy as np"
   ]
  },
  {
   "attachments": {},
   "cell_type": "markdown",
   "metadata": {},
   "source": [
    "## Ustawianie globalnych danych \n",
    "\n",
    "### Ustawiam tutaj, dane które są uniwersalne, dla każdego testu, to znaczy:\n",
    "1. Liczba stopni swobody \n",
    "2. Liczba danych  \n",
    "3. Liczba symulacji, które wykonam \n",
    "4. Poziom istnotności"
   ]
  },
  {
   "cell_type": "code",
   "execution_count": 52,
   "metadata": {},
   "outputs": [],
   "source": [
    "\n",
    "np.random.seed(seed=123)\n",
    "\n",
    "# Zakres stopni swobody, jakie zaprezentuję na wykresie\n",
    "stopnie_swobody = range(1,50,1) # Zakres od 1-50 co 1\n",
    "# Ustalam poziom istotności \n",
    "poziom_istotnosci = 0.05\n",
    "# Liczba danych dla jakich wykonam symulacje \n",
    "liczby_danych = [10,20,50,100,200]\n",
    "# Liczba symulacji na jakich będę bazować \n",
    "liczba_symulacji = 100\n",
    "\n"
   ]
  },
  {
   "attachments": {},
   "cell_type": "markdown",
   "metadata": {},
   "source": [
    "## Funckja ogólna symulacji\n",
    "\n",
    "### Uniwersalna funkcja, która będzie służyła do symulacjii mocy danego testu. W ten sposób zapisu dalsza część będzie dużo czytelniejsza. Jedyną zmienną będzie \"test\", która w środku symulacji wybierze, któru dokładnie test jest teraz symulowany."
   ]
  },
  {
   "cell_type": "code",
   "execution_count": 53,
   "metadata": {},
   "outputs": [],
   "source": [
    "def symulacja_testu(test):\n",
    "    # Tablica, która zbierze mi moce testów\n",
    "    moce_testow = []\n",
    "\n",
    "    # Zaczynamy symulacje \n",
    "    # Dla każdej liczby danych\n",
    "    for l_danych in liczby_danych:\n",
    "        # Tworzę nową tablicę która będzie przechowywała\n",
    "        # moce testu dla n-tej liczby danych\n",
    "        moce_n_testu = []\n",
    "        # Dla każdego stopnia swobody\n",
    "        for stopien_s in stopnie_swobody:\n",
    "            # W tej zmiennej będę sumował liczbę razy, gdy dla danego zestawu\n",
    "            # danych odrzuciłem hipotezę zerową\n",
    "            suma_odrzucenia_H0 = 0\n",
    "            # Symulacja, dla danego zestawu danych\n",
    "            for k in range(liczba_symulacji):\n",
    "                # Tworzę próbkę danych z rozkładu t-Studenta\n",
    "                # o l_danych wielkości i stopien_s stopni swobody\n",
    "                probka = stats.t.rvs(stopien_s,size=l_danych)\n",
    "                # Standaryzacja danych\n",
    "                stand_probka = (probka-np.mean(probka))/np.std(probka)\n",
    "\n",
    "                # Tutaj jest moment decyzyjny, gdzie decyduje jaki test\n",
    "                # jest teraz symulowany\n",
    "\n",
    "                # Test Chi-kwadrat \n",
    "                if test == \"chi\":\n",
    "                    # Jeżeli pvalue z danego testu jest mniejsze niż wczesniej\n",
    "                    # ustalony poziom istotnotnosci to odrucamy Hipoteze zerowa\n",
    "                    # co znaczy ze zwiekszamy zmienna sumujaca odrzucenie H0 o 1\n",
    "                    if stats.chisquare(stand_probka).pvalue < poziom_istotnosci:\n",
    "                        suma_odrzucenia_H0 += 1\n",
    "                \n",
    "                # Test Shapiro-Wilka \n",
    "                elif test == \"shapiro\":\n",
    "                    if stats.shapiro(stand_probka).pvalue < poziom_istotnosci:\n",
    "                        suma_odrzucenia_H0 += 1 \n",
    "                \n",
    "                # Test Kołgomorova \n",
    "                elif test == \"kolmog\":\n",
    "                    if stats.kstest(stand_probka,'norm').pvalue < poziom_istotnosci:\n",
    "                        suma_odrzucenia_H0 +=1 \n",
    "            \n",
    "            # Teraz podliczamy odsetek w jakim odrzucilismy H0 w całej symulacji\n",
    "            moce_n_testu.append((suma_odrzucenia_H0/liczba_symulacji))\n",
    "        # Teraz dodajemy moce n-tego testu do głownej tablicy przechowującej moce testu\n",
    "        moce_testow.append(moce_n_testu)\n",
    "\n",
    "    # Symulacja zakonczona\n",
    "\n",
    "    return moce_testow"
   ]
  },
  {
   "attachments": {},
   "cell_type": "markdown",
   "metadata": {},
   "source": [
    "## Teraz wykonam symulacje dla każdego z testów "
   ]
  },
  {
   "cell_type": "code",
   "execution_count": 54,
   "metadata": {},
   "outputs": [
    {
     "name": "stderr",
     "output_type": "stream",
     "text": [
      "C:\\Users\\Arkadiusz Studia\\AppData\\Local\\Packages\\PythonSoftwareFoundation.Python.3.11_qbz5n2kfra8p0\\LocalCache\\local-packages\\Python311\\site-packages\\scipy\\stats\\_stats_py.py:7407: RuntimeWarning: divide by zero encountered in divide\n",
      "  terms = (f_obs_float - f_exp)**2 / f_exp\n"
     ]
    }
   ],
   "source": [
    "# Test chi-kwadrat\n",
    "moc_chi = symulacja_testu(\"chi\")\n",
    "# Test Shapiro-Wilka\n",
    "moc_shapiro = symulacja_testu(\"shapiro\")\n",
    "# Test Kolgomorova\n",
    "moc_kolgom = symulacja_testu(\"kolmog\")"
   ]
  }
 ],
 "metadata": {
  "kernelspec": {
   "display_name": "Python 3",
   "language": "python",
   "name": "python3"
  },
  "language_info": {
   "codemirror_mode": {
    "name": "ipython",
    "version": 3
   },
   "file_extension": ".py",
   "mimetype": "text/x-python",
   "name": "python",
   "nbconvert_exporter": "python",
   "pygments_lexer": "ipython3",
   "version": "3.11.2"
  },
  "orig_nbformat": 4
 },
 "nbformat": 4,
 "nbformat_minor": 2
}
