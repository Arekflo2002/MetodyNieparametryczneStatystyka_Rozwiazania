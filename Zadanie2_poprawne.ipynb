{
 "cells": [
  {
   "cell_type": "code",
   "execution_count": 238,
   "metadata": {},
   "outputs": [],
   "source": [
    "import scipy.stats as stats\n",
    "import matplotlib.pyplot as plt\n",
    "import numpy as np"
   ]
  },
  {
   "cell_type": "code",
   "execution_count": 239,
   "metadata": {},
   "outputs": [],
   "source": [
    "np.random.seed(seed=123)\n",
    "\n",
    "# Zakres stopni swobody, jakie zaprezentuję na wykresie\n",
    "stopnie_swobody = range(1, 50, 1)  # Zakres od 1-50 co 1\n",
    "# Ustalam poziom istotności\n",
    "poziom_istotnosci = 0.05\n",
    "# Liczba danych dla jakich wykonam symulacje\n",
    "liczby_danych = [10, 20, 50, 100, 200]\n",
    "# Liczba symulacji na jakich będę bazować\n",
    "liczba_symulacji = 100"
   ]
  },
  {
   "cell_type": "code",
   "execution_count": 240,
   "metadata": {},
   "outputs": [],
   "source": [
    "def wybor_testu(l_danych,stopien_s,test,probka):\n",
    "\n",
    "    # Tutaj bede skladowal ile razy odrzucilem hipoteze zerowa dla danego testu \n",
    "\n",
    "    # Tutaj jest moment decyzyjny, który test mam wybrać\n",
    "    if test ==\"kol\":\n",
    "        if stats.kstest(probka,\"chi2\",args=(stopien_s,)).pvalue < poziom_istotnosci: return 1\n",
    "\n",
    "    \n",
    "    elif test == \"chi\":\n",
    "        expected_data = np.array([(i+1)**2 for i in range(len(probka))])\n",
    "        expected_data = (expected_data* np.sum(probka)/np.sum(expected_data))\n",
    "        if stats.chisquare(probka,expected_data).pvalue < poziom_istotnosci: return 1\n",
    "\n",
    "    return 0\n",
    "\n"
   ]
  },
  {
   "cell_type": "code",
   "execution_count": 241,
   "metadata": {},
   "outputs": [],
   "source": [
    "def symulacja(l_danych,stopien_s,test):\n",
    "\n",
    "    # W tej zmiennej będę sumował liczbę razy, gdy dla danego zestawu danych odrzuciłem hipotezę zerową\n",
    "    suma_odrzucenia_H0 = 0\n",
    "    \n",
    "    for k in range(liczba_symulacji):\n",
    "        # Tworzę próbkę danych z rozkładu t-Studentao l_danych wielkości i stopien_s stopni swobody\n",
    "        probka = stats.chi2.rvs(stopien_s, size=l_danych)\n",
    "\n",
    "        # Przekazuje wszystkie dane, aby wybrac który test jest symulowany i obliczyc ile razy odrzuce hipoteze zerowa\n",
    "        suma_odrzucenia_H0 += wybor_testu(l_danych,stopien_s,test,probka)\n",
    "    \n",
    "\n",
    "\n",
    "    return suma_odrzucenia_H0/liczba_symulacji\n",
    "\n",
    "\n",
    "\n",
    "\n",
    "\n",
    "\n"
   ]
  },
  {
   "cell_type": "code",
   "execution_count": 242,
   "metadata": {},
   "outputs": [],
   "source": [
    "def obliczanie_mocy_testu(test):\n",
    "    # Tablica ktora zbierze mi moce testów\n",
    "    moce_testow = []\n",
    "    \n",
    "    # Dla każdej z liczby danych, będę wykonywał symulacje \n",
    "    for l_danych in liczby_danych:\n",
    "        # Tworzę nową tablicę która będzie przechowywała moce testu dla n-tej liczby danych. Dla kazdego stopnia swobody robię symulację i \n",
    "        # od razu stworze liste \n",
    "        moce_testow.append([symulacja(l_danych,stopien_s,test) for stopien_s in stopnie_swobody])\n",
    "\n",
    "    # Zwracam wartości mocy\n",
    "    return moce_testow\n"
   ]
  },
  {
   "cell_type": "code",
   "execution_count": 243,
   "metadata": {},
   "outputs": [],
   "source": [
    "# moc_kol = obliczanie_mocy_testu(\"kol\")"
   ]
  },
  {
   "cell_type": "code",
   "execution_count": 244,
   "metadata": {},
   "outputs": [],
   "source": [
    "\n",
    "# for moc in moc_kol:\n",
    "#     plt.plot(moc)\n",
    "\n",
    "# plt.ylim(0,0.5)\n",
    "# plt.show()"
   ]
  },
  {
   "cell_type": "code",
   "execution_count": 245,
   "metadata": {},
   "outputs": [
    {
     "data": {
      "image/png": "[encoded data removed]",
      "text/plain": [
       "<Figure size 640x480 with 1 Axes>"
      ]
     },
     "metadata": {},
     "output_type": "display_data"
    }
   ],
   "source": [
    "moc_chi = obliczanie_mocy_testu(\"chi\")\n",
    "\n",
    "for moc in moc_chi:\n",
    "    plt.plot(moc)\n",
    "\n",
    "plt.show()"
   ]
  }
 ],
 "metadata": {
  "kernelspec": {
   "display_name": "Python 3",
   "language": "python",
   "name": "python3"
  },
  "language_info": {
   "codemirror_mode": {
    "name": "ipython",
    "version": 3
   },
   "file_extension": ".py",
   "mimetype": "text/x-python",
   "name": "python",
   "nbconvert_exporter": "python",
   "pygments_lexer": "ipython3",
   "version": "3.11.2"
  },
  "orig_nbformat": 4
 },
 "nbformat": 4,
 "nbformat_minor": 2
}
