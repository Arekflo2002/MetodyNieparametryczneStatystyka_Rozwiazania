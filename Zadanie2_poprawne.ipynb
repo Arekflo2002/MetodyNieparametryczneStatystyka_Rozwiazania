{
 "cells": [
  {
   "cell_type": "code",
   "execution_count": 39,
   "metadata": {},
   "outputs": [],
   "source": [
    "import scipy.stats as stats\n",
    "import matplotlib.pyplot as plt\n",
    "import numpy as np"
   ]
  },
  {
   "cell_type": "code",
   "execution_count": 40,
   "metadata": {},
   "outputs": [],
   "source": [
    "np.random.seed(seed=123)\n",
    "\n",
    "# Zakres stopni swobody, jakie zaprezentuję na wykresie\n",
    "stopnie_swobody = range(1, 50, 1)  # Zakres od 1-50 co 1\n",
    "# Ustalam poziom istotności\n",
    "poziom_istotnosci = 0.05\n",
    "# Liczba danych dla jakich wykonam symulacje\n",
    "liczby_danych = [10, 20, 50, 100, 200]\n",
    "# Liczba symulacji na jakich będę bazować\n",
    "liczba_symulacji = 100"
   ]
  },
  {
   "cell_type": "code",
   "execution_count": 45,
   "metadata": {},
   "outputs": [],
   "source": [
    "def wybor_testu(l_danych,stopien_s,test,probka):\n",
    "\n",
    "    # Tutaj bede skladowal ile razy odrzucilem hipoteze zerowa dla danego testu \n",
    "\n",
    "    # Tutaj jest moment decyzyjny, który test mam wybrać\n",
    "    if test ==\"kol\":\n",
    "        if stats.kstest(probka,'chi2').pvalue < poziom_istotnosci: return 1\n",
    "\n",
    "    \n",
    "    elif test == \"chi\":\n",
    "        if stats.chisquare(probka).pvalue < poziom_istotnosci: return 1\n",
    "\n",
    "    return 0\n",
    "\n"
   ]
  },
  {
   "cell_type": "code",
   "execution_count": 42,
   "metadata": {},
   "outputs": [],
   "source": [
    "def symulacja(l_danych,stopien_s,test):\n",
    "\n",
    "    # W tej zmiennej będę sumował liczbę razy, gdy dla danego zestawu danych odrzuciłem hipotezę zerową\n",
    "    suma_odrzucenia_H0 = 0\n",
    "\n",
    "    for k in range(liczba_symulacji):\n",
    "        # Tworzę próbkę danych z rozkładu t-Studentao l_danych wielkości i stopien_s stopni swobody\n",
    "        probka = stats.t.rvs(stopien_s, size=l_danych)\n",
    "\n",
    "        # Standaryzacja danych\n",
    "        stand_probka = (probka-np.mean(probka))/np.std(probka)\n",
    "\n",
    "        # Przekazuje wszystkie dane, aby wybrac który test jest symulowany i obliczyc ile razy odrzuce hipoteze zerowa\n",
    "        suma_odrzucenia_H0 += wybor_testu(l_danych,stopien_s,test,stand_probka)\n",
    "\n",
    "\n",
    "    return suma_odrzucenia_H0/liczba_symulacji\n",
    "\n",
    "\n",
    "\n",
    "\n",
    "\n",
    "\n"
   ]
  },
  {
   "cell_type": "code",
   "execution_count": 43,
   "metadata": {},
   "outputs": [],
   "source": [
    "def obliczanie_mocy_testu(test):\n",
    "    # Tablica ktora zbierze mi moce testów\n",
    "    moce_testow = []\n",
    "    \n",
    "    # Dla każdej z liczby danych, będę wykonywał symulacje \n",
    "    for l_danych in liczby_danych:\n",
    "        # Tworzę nową tablicę która będzie przechowywała moce testu dla n-tej liczby danych. Dla kazdego stopnia swobody robię symulację i \n",
    "        # od razu stworze liste \n",
    "        moce_testow.append([symulacja(l_danych,stopien_s,test) for stopien_s in stopnie_swobody])\n",
    "\n",
    "    # Zwracam wartości mocy\n",
    "    return moce_testow\n"
   ]
  },
  {
   "cell_type": "code",
   "execution_count": 44,
   "metadata": {},
   "outputs": [
    {
     "ename": "TypeError",
     "evalue": "_parse_args() missing 1 required positional argument: 'df'",
     "output_type": "error",
     "traceback": [
      "\u001b[1;31m---------------------------------------------------------------------------\u001b[0m",
      "\u001b[1;31mTypeError\u001b[0m                                 Traceback (most recent call last)",
      "Cell \u001b[1;32mIn[44], line 1\u001b[0m\n\u001b[1;32m----> 1\u001b[0m chi \u001b[39m=\u001b[39m obliczanie_mocy_testu(\u001b[39m\"\u001b[39;49m\u001b[39mkol\u001b[39;49m\u001b[39m\"\u001b[39;49m)\n\u001b[0;32m      3\u001b[0m \u001b[39mfor\u001b[39;00m moc \u001b[39min\u001b[39;00m chi:\n\u001b[0;32m      4\u001b[0m     plt\u001b[39m.\u001b[39mplot(moc)\n",
      "Cell \u001b[1;32mIn[43], line 9\u001b[0m, in \u001b[0;36mobliczanie_mocy_testu\u001b[1;34m(test)\u001b[0m\n\u001b[0;32m      5\u001b[0m \u001b[39m# Dla każdej z liczby danych, będę wykonywał symulacje \u001b[39;00m\n\u001b[0;32m      6\u001b[0m \u001b[39mfor\u001b[39;00m l_danych \u001b[39min\u001b[39;00m liczby_danych:\n\u001b[0;32m      7\u001b[0m     \u001b[39m# Tworzę nową tablicę która będzie przechowywała moce testu dla n-tej liczby danych. Dla kazdego stopnia swobody robię symulację i \u001b[39;00m\n\u001b[0;32m      8\u001b[0m     \u001b[39m# od razu stworze liste \u001b[39;00m\n\u001b[1;32m----> 9\u001b[0m     moce_testow\u001b[39m.\u001b[39mappend([symulacja(l_danych,stopien_s,test) \u001b[39mfor\u001b[39;49;00m stopien_s \u001b[39min\u001b[39;49;00m stopnie_swobody])\n\u001b[0;32m     11\u001b[0m \u001b[39m# Zwracam wartości mocy\u001b[39;00m\n\u001b[0;32m     12\u001b[0m \u001b[39mreturn\u001b[39;00m moce_testow\n",
      "Cell \u001b[1;32mIn[43], line 9\u001b[0m, in \u001b[0;36m<listcomp>\u001b[1;34m(.0)\u001b[0m\n\u001b[0;32m      5\u001b[0m \u001b[39m# Dla każdej z liczby danych, będę wykonywał symulacje \u001b[39;00m\n\u001b[0;32m      6\u001b[0m \u001b[39mfor\u001b[39;00m l_danych \u001b[39min\u001b[39;00m liczby_danych:\n\u001b[0;32m      7\u001b[0m     \u001b[39m# Tworzę nową tablicę która będzie przechowywała moce testu dla n-tej liczby danych. Dla kazdego stopnia swobody robię symulację i \u001b[39;00m\n\u001b[0;32m      8\u001b[0m     \u001b[39m# od razu stworze liste \u001b[39;00m\n\u001b[1;32m----> 9\u001b[0m     moce_testow\u001b[39m.\u001b[39mappend([symulacja(l_danych,stopien_s,test) \u001b[39mfor\u001b[39;00m stopien_s \u001b[39min\u001b[39;00m stopnie_swobody])\n\u001b[0;32m     11\u001b[0m \u001b[39m# Zwracam wartości mocy\u001b[39;00m\n\u001b[0;32m     12\u001b[0m \u001b[39mreturn\u001b[39;00m moce_testow\n",
      "Cell \u001b[1;32mIn[42], line 14\u001b[0m, in \u001b[0;36msymulacja\u001b[1;34m(l_danych, stopien_s, test)\u001b[0m\n\u001b[0;32m     11\u001b[0m     stand_probka \u001b[39m=\u001b[39m (probka\u001b[39m-\u001b[39mnp\u001b[39m.\u001b[39mmean(probka))\u001b[39m/\u001b[39mnp\u001b[39m.\u001b[39mstd(probka)\n\u001b[0;32m     13\u001b[0m     \u001b[39m# Przekazuje wszystkie dane, aby wybrac który test jest symulowany i obliczyc ile razy odrzuce hipoteze zerowa\u001b[39;00m\n\u001b[1;32m---> 14\u001b[0m     suma_odrzucenia_H0 \u001b[39m+\u001b[39m\u001b[39m=\u001b[39m wybor_testu(l_danych,stopien_s,test,stand_probka)\n\u001b[0;32m     17\u001b[0m \u001b[39mreturn\u001b[39;00m suma_odrzucenia_H0\u001b[39m/\u001b[39mliczba_symulacji\n",
      "Cell \u001b[1;32mIn[41], line 7\u001b[0m, in \u001b[0;36mwybor_testu\u001b[1;34m(l_danych, stopien_s, test, probka)\u001b[0m\n\u001b[0;32m      1\u001b[0m \u001b[39mdef\u001b[39;00m \u001b[39mwybor_testu\u001b[39m(l_danych,stopien_s,test,probka):\n\u001b[0;32m      2\u001b[0m \n\u001b[0;32m      3\u001b[0m     \u001b[39m# Tutaj bede skladowal ile razy odrzucilem hipoteze zerowa dla danego testu \u001b[39;00m\n\u001b[0;32m      4\u001b[0m \n\u001b[0;32m      5\u001b[0m     \u001b[39m# Tutaj jest moment decyzyjny, który test mam wybrać\u001b[39;00m\n\u001b[0;32m      6\u001b[0m     \u001b[39mif\u001b[39;00m test \u001b[39m==\u001b[39m\u001b[39m\"\u001b[39m\u001b[39mkol\u001b[39m\u001b[39m\"\u001b[39m:\n\u001b[1;32m----> 7\u001b[0m         \u001b[39mif\u001b[39;00m stats\u001b[39m.\u001b[39;49mkstest(probka,\u001b[39m'\u001b[39;49m\u001b[39mchi2\u001b[39;49m\u001b[39m'\u001b[39;49m)\u001b[39m.\u001b[39mpvalue \u001b[39m<\u001b[39m poziom_istotnosci: \u001b[39mreturn\u001b[39;00m \u001b[39m1\u001b[39m\n\u001b[0;32m     10\u001b[0m     \u001b[39melif\u001b[39;00m test \u001b[39m==\u001b[39m \u001b[39m\"\u001b[39m\u001b[39mchi\u001b[39m\u001b[39m\"\u001b[39m:\n\u001b[0;32m     11\u001b[0m         \u001b[39mif\u001b[39;00m stats\u001b[39m.\u001b[39mchisquare(probka)\u001b[39m.\u001b[39mpvalue \u001b[39m<\u001b[39m poziom_istotnosci: \u001b[39mreturn\u001b[39;00m \u001b[39m1\u001b[39m\n",
      "File \u001b[1;32md:\\Programy do programowania\\Python 3.11\\Lib\\site-packages\\scipy\\_lib\\_util.py:700\u001b[0m, in \u001b[0;36m_rename_parameter.<locals>.decorator.<locals>.wrapper\u001b[1;34m(*args, **kwargs)\u001b[0m\n\u001b[0;32m    698\u001b[0m         \u001b[39mraise\u001b[39;00m \u001b[39mTypeError\u001b[39;00m(message)\n\u001b[0;32m    699\u001b[0m     kwargs[new_name] \u001b[39m=\u001b[39m kwargs\u001b[39m.\u001b[39mpop(old_name)\n\u001b[1;32m--> 700\u001b[0m \u001b[39mreturn\u001b[39;00m fun(\u001b[39m*\u001b[39;49margs, \u001b[39m*\u001b[39;49m\u001b[39m*\u001b[39;49mkwargs)\n",
      "File \u001b[1;32md:\\Programy do programowania\\Python 3.11\\Lib\\site-packages\\scipy\\stats\\_stats_py.py:8378\u001b[0m, in \u001b[0;36mkstest\u001b[1;34m(rvs, cdf, args, N, alternative, method)\u001b[0m\n\u001b[0;32m   8376\u001b[0m xvals, yvals, cdf \u001b[39m=\u001b[39m _parse_kstest_args(rvs, cdf, args, N)\n\u001b[0;32m   8377\u001b[0m \u001b[39mif\u001b[39;00m cdf:\n\u001b[1;32m-> 8378\u001b[0m     \u001b[39mreturn\u001b[39;00m ks_1samp(xvals, cdf, args\u001b[39m=\u001b[39;49margs, alternative\u001b[39m=\u001b[39;49malternative,\n\u001b[0;32m   8379\u001b[0m                     method\u001b[39m=\u001b[39;49mmethod)\n\u001b[0;32m   8380\u001b[0m \u001b[39mreturn\u001b[39;00m ks_2samp(xvals, yvals, alternative\u001b[39m=\u001b[39malternative, method\u001b[39m=\u001b[39mmethod)\n",
      "File \u001b[1;32md:\\Programy do programowania\\Python 3.11\\Lib\\site-packages\\scipy\\_lib\\_util.py:700\u001b[0m, in \u001b[0;36m_rename_parameter.<locals>.decorator.<locals>.wrapper\u001b[1;34m(*args, **kwargs)\u001b[0m\n\u001b[0;32m    698\u001b[0m         \u001b[39mraise\u001b[39;00m \u001b[39mTypeError\u001b[39;00m(message)\n\u001b[0;32m    699\u001b[0m     kwargs[new_name] \u001b[39m=\u001b[39m kwargs\u001b[39m.\u001b[39mpop(old_name)\n\u001b[1;32m--> 700\u001b[0m \u001b[39mreturn\u001b[39;00m fun(\u001b[39m*\u001b[39;49margs, \u001b[39m*\u001b[39;49m\u001b[39m*\u001b[39;49mkwargs)\n",
      "File \u001b[1;32md:\\Programy do programowania\\Python 3.11\\Lib\\site-packages\\scipy\\stats\\_stats_py.py:7739\u001b[0m, in \u001b[0;36mks_1samp\u001b[1;34m(x, cdf, args, alternative, method)\u001b[0m\n\u001b[0;32m   7737\u001b[0m N \u001b[39m=\u001b[39m \u001b[39mlen\u001b[39m(x)\n\u001b[0;32m   7738\u001b[0m x \u001b[39m=\u001b[39m np\u001b[39m.\u001b[39msort(x)\n\u001b[1;32m-> 7739\u001b[0m cdfvals \u001b[39m=\u001b[39m cdf(x, \u001b[39m*\u001b[39;49margs)\n\u001b[0;32m   7741\u001b[0m \u001b[39mif\u001b[39;00m alternative \u001b[39m==\u001b[39m \u001b[39m'\u001b[39m\u001b[39mgreater\u001b[39m\u001b[39m'\u001b[39m:\n\u001b[0;32m   7742\u001b[0m     Dplus, d_location \u001b[39m=\u001b[39m _compute_dplus(cdfvals, x)\n",
      "File \u001b[1;32md:\\Programy do programowania\\Python 3.11\\Lib\\site-packages\\scipy\\stats\\_distn_infrastructure.py:2171\u001b[0m, in \u001b[0;36mrv_continuous.cdf\u001b[1;34m(self, x, *args, **kwds)\u001b[0m\n\u001b[0;32m   2149\u001b[0m \u001b[39mdef\u001b[39;00m \u001b[39mcdf\u001b[39m(\u001b[39mself\u001b[39m, x, \u001b[39m*\u001b[39margs, \u001b[39m*\u001b[39m\u001b[39m*\u001b[39mkwds):\n\u001b[0;32m   2150\u001b[0m \u001b[39m    \u001b[39m\u001b[39m\"\"\"\u001b[39;00m\n\u001b[0;32m   2151\u001b[0m \u001b[39m    Cumulative distribution function of the given RV.\u001b[39;00m\n\u001b[0;32m   2152\u001b[0m \n\u001b[1;32m   (...)\u001b[0m\n\u001b[0;32m   2169\u001b[0m \n\u001b[0;32m   2170\u001b[0m \u001b[39m    \"\"\"\u001b[39;00m\n\u001b[1;32m-> 2171\u001b[0m     args, loc, scale \u001b[39m=\u001b[39m \u001b[39mself\u001b[39;49m\u001b[39m.\u001b[39;49m_parse_args(\u001b[39m*\u001b[39;49margs, \u001b[39m*\u001b[39;49m\u001b[39m*\u001b[39;49mkwds)\n\u001b[0;32m   2172\u001b[0m     x, loc, scale \u001b[39m=\u001b[39m \u001b[39mmap\u001b[39m(asarray, (x, loc, scale))\n\u001b[0;32m   2173\u001b[0m     args \u001b[39m=\u001b[39m \u001b[39mtuple\u001b[39m(\u001b[39mmap\u001b[39m(asarray, args))\n",
      "\u001b[1;31mTypeError\u001b[0m: _parse_args() missing 1 required positional argument: 'df'"
     ]
    }
   ],
   "source": [
    "chi = obliczanie_mocy_testu(\"kol\")\n",
    "\n",
    "for moc in chi:\n",
    "    plt.plot(moc)\n",
    "\n",
    "plt.show()"
   ]
  }
 ],
 "metadata": {
  "kernelspec": {
   "display_name": "Python 3",
   "language": "python",
   "name": "python3"
  },
  "language_info": {
   "codemirror_mode": {
    "name": "ipython",
    "version": 3
   },
   "file_extension": ".py",
   "mimetype": "text/x-python",
   "name": "python",
   "nbconvert_exporter": "python",
   "pygments_lexer": "ipython3",
   "version": "3.11.2"
  },
  "orig_nbformat": 4
 },
 "nbformat": 4,
 "nbformat_minor": 2
}
